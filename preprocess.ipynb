{
 "cells": [
  {
   "cell_type": "code",
   "execution_count": 1,
   "metadata": {},
   "outputs": [],
   "source": [
    "import pandas as pd\n",
    "from pathlib import Path\n",
    "import json"
   ]
  },
  {
   "cell_type": "code",
   "execution_count": 2,
   "metadata": {},
   "outputs": [],
   "source": [
    "indir = Path(\"/home/nico/Software/nf-core/tfactivity/testing/work/c1/ef45dc7e9a1f8a857ffee79ff738e3\")\n",
    "outdir = Path(\"src/assets\")"
   ]
  },
  {
   "cell_type": "code",
   "execution_count": 3,
   "metadata": {},
   "outputs": [
    {
     "name": "stderr",
     "output_type": "stream",
     "text": [
      "/tmp/ipykernel_229020/926323149.py:4: DeprecationWarning: DataFrameGroupBy.apply operated on the grouping columns. This behavior is deprecated, and in a future version of pandas the grouping columns will be excluded from the operation. Either pass `include_groups=False` to exclude the groupings or explicitly select the grouping columns after groupby to silence this warning.\n",
      "  sample_condition = df_design.groupby(\"condition\").apply(lambda x: x[\"sample\"].tolist()).to_dict()\n"
     ]
    }
   ],
   "source": [
    "df_design = pd.read_csv(indir / \"counts_design/samplesheet_rnaseq.csv\")\n",
    "\n",
    "# Group by condition, get sample list\n",
    "sample_condition = df_design.groupby(\"condition\").apply(lambda x: x[\"sample\"].tolist()).to_dict()\n",
    "json.dump(sample_condition, open(outdir / \"sample_condition.json\", \"w\"), indent=4)"
   ]
  },
  {
   "cell_type": "code",
   "execution_count": 4,
   "metadata": {},
   "outputs": [],
   "source": [
    "affinity_ratio_dir = indir / \"affinity_ratio\"\n",
    "assert affinity_ratio_dir.exists()\n",
    "\n",
    "affinity_sum_dir = indir / \"affinity_sum\"\n",
    "assert affinity_sum_dir.exists()\n",
    "\n",
    "deseq2_differential_dir = indir / \"deseq2_differential\"\n",
    "assert deseq2_differential_dir.exists()\n",
    "\n",
    "normalized_counts_dir = indir / \"normalized\"\n",
    "assert normalized_counts_dir.exists()\n",
    "\n",
    "raw_counts_dir = indir / \"raw_counts\"\n",
    "assert raw_counts_dir.exists()\n",
    "\n",
    "regression_coefficients_dir = indir / \"regression_coefficients\"\n",
    "assert regression_coefficients_dir.exists()\n",
    "\n",
    "tf_ranking_dir = indir / \"tf_rankings\"\n",
    "assert tf_ranking_dir.exists()\n",
    "\n",
    "tg_ranking_dir = indir / \"tg_rankings\"\n",
    "assert tg_ranking_dir.exists()\n",
    "\n",
    "tpm_dir = indir / \"tpms\"\n",
    "assert tpm_dir.exists()"
   ]
  },
  {
   "cell_type": "code",
   "execution_count": 5,
   "metadata": {},
   "outputs": [],
   "source": [
    "ranking = {}\n",
    "tfs = {}\n",
    "\n",
    "\n",
    "for file in tf_ranking_dir.glob(\"*.tf_ranking.tsv\"):\n",
    "    assay = file.stem.split(\".\")[0]\n",
    "    \n",
    "    df_tf = pd.read_csv(file, sep=\"\\t\", index_col=0)\n",
    "    ranking[assay] = df_tf[\"dcg\"].to_dict()\n",
    "\n",
    "    df_tg = pd.read_csv(tg_ranking_dir / f\"{assay}.tg_ranking.tsv\", sep=\"\\t\", index_col=0)\n",
    "\n",
    "    for tf in df_tf.index:\n",
    "        if tf not in tfs:\n",
    "            tfs[tf] = {\n",
    "                \"target_genes\": {},\n",
    "                \"differential_expression\": {}\n",
    "            }\n",
    "        tfs[tf][\"target_genes\"][assay] = df_tg[tf].to_dict()\n",
    "\n",
    "for file in deseq2_differential_dir.glob(\"*.deseq2.results.tsv\"):\n",
    "    pair_string = file.stem.split(\".\")[0]\n",
    "    \n",
    "    df_deseq2 = pd.read_csv(file, sep=\"\\t\", index_col=0)\n",
    "\n",
    "    for tf in tfs:\n",
    "        tf_row = df_deseq2.loc[tf]\n",
    "        tfs[tf][\"differential_expression\"][pair_string] = {\n",
    "            \"baseMean\": tf_row[\"baseMean\"],\n",
    "            \"log2FoldChange\": tf_row[\"log2FoldChange\"],\n",
    "            \"lfcSE\": tf_row[\"lfcSE\"],\n",
    "            \"pvalue\": tf_row[\"pvalue\"],\n",
    "        }\n",
    "\n",
    "json.dump(ranking, open(outdir / \"ranking.json\", \"w\"), indent=4)\n",
    "\n",
    "tf_dir = outdir / \"transcription_factors\"\n",
    "tf_dir.mkdir(parents=True, exist_ok=True)\n",
    "\n",
    "df_tpm = pd.read_csv(tpm_dir / \"counts.tpm.tsv\", sep=\"\\t\", index_col=0).T\n",
    "df_counts = pd.read_csv(raw_counts_dir / \"counts.counts_filtered.tsv\", sep=\"\\t\", index_col=0).T\n",
    "\n",
    "for tf in tfs:\n",
    "    tfs[tf][\"tpm\"] = df_tpm[tf].to_dict()\n",
    "    tfs[tf][\"counts\"] = df_counts[tf].to_dict()\n",
    "\n",
    "    json.dump(tfs[tf], open(tf_dir / f\"{tf}.json\", \"w\"), indent=4)"
   ]
  }
 ],
 "metadata": {
  "kernelspec": {
   "display_name": "single-cell",
   "language": "python",
   "name": "python3"
  },
  "language_info": {
   "codemirror_mode": {
    "name": "ipython",
    "version": 3
   },
   "file_extension": ".py",
   "mimetype": "text/x-python",
   "name": "python",
   "nbconvert_exporter": "python",
   "pygments_lexer": "ipython3",
   "version": "3.12.10"
  }
 },
 "nbformat": 4,
 "nbformat_minor": 2
}
